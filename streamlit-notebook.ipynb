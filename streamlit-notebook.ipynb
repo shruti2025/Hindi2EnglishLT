{
  "nbformat": 4,
  "nbformat_minor": 0,
  "metadata": {
    "accelerator": "GPU",
    "colab": {
      "name": "t1.ipynb",
      "provenance": [],
      "collapsed_sections": []
    },
    "kernelspec": {
      "display_name": "Python 3",
      "name": "python3"
    }
  },
  "cells": [
    {
      "cell_type": "code",
      "metadata": {
        "colab": {
          "base_uri": "https://localhost:8080/"
        },
        "id": "kxgVyh5snuXt",
        "outputId": "52d6bfbb-0797-46bd-bc03-a71e729ab864"
      },
      "source": [
        "from google.colab import drive\r\n",
        "drive.mount('/content/drive')"
      ],
      "execution_count": 2,
      "outputs": [
        {
          "output_type": "stream",
          "text": [
            "Drive already mounted at /content/drive; to attempt to forcibly remount, call drive.mount(\"/content/drive\", force_remount=True).\n"
          ],
          "name": "stdout"
        }
      ]
    },
    {
      "cell_type": "code",
      "metadata": {
        "colab": {
          "base_uri": "https://localhost:8080/"
        },
        "id": "XJJesd3necMO",
        "outputId": "cee21298-8422-4933-8a46-b06eef89a13d"
      },
      "source": [
        "!pip install -q streamlit\r\n",
        "!pip install -q sentencepiece\r\n",
        "!pip install -q git+https://github.com/huggingface/transformers.git"
      ],
      "execution_count": 3,
      "outputs": [
        {
          "output_type": "stream",
          "text": [
            "\u001b[K     |████████████████████████████████| 7.5MB 6.8MB/s \n",
            "\u001b[K     |████████████████████████████████| 112kB 60.5MB/s \n",
            "\u001b[K     |████████████████████████████████| 81kB 12.2MB/s \n",
            "\u001b[K     |████████████████████████████████| 163kB 55.8MB/s \n",
            "\u001b[K     |████████████████████████████████| 4.6MB 53.2MB/s \n",
            "\u001b[K     |████████████████████████████████| 71kB 12.1MB/s \n",
            "\u001b[K     |████████████████████████████████| 122kB 48.2MB/s \n",
            "\u001b[?25h  Building wheel for blinker (setup.py) ... \u001b[?25l\u001b[?25hdone\n",
            "\u001b[31mERROR: google-colab 1.0.0 has requirement ipykernel~=4.10, but you'll have ipykernel 5.4.3 which is incompatible.\u001b[0m\n",
            "\u001b[K     |████████████████████████████████| 1.2MB 7.5MB/s \n",
            "\u001b[?25h  Installing build dependencies ... \u001b[?25l\u001b[?25hdone\n",
            "  Getting requirements to build wheel ... \u001b[?25l\u001b[?25hdone\n",
            "    Preparing wheel metadata ... \u001b[?25l\u001b[?25hdone\n",
            "\u001b[K     |████████████████████████████████| 890kB 7.7MB/s \n",
            "\u001b[K     |████████████████████████████████| 3.2MB 16.2MB/s \n",
            "\u001b[?25h  Building wheel for transformers (PEP 517) ... \u001b[?25l\u001b[?25hdone\n",
            "  Building wheel for sacremoses (setup.py) ... \u001b[?25l\u001b[?25hdone\n"
          ],
          "name": "stdout"
        }
      ]
    },
    {
      "cell_type": "code",
      "metadata": {
        "colab": {
          "base_uri": "https://localhost:8080/"
        },
        "id": "CZjAlUgaeo8D",
        "outputId": "3701e2a1-015a-4f6c-dfd2-2763a29250dc"
      },
      "source": [
        "!wget https://bin.equinox.io/c/4VmDzA7iaHb/ngrok-stable-linux-amd64.zip\r\n",
        "!unzip ngrok-stable-linux-amd64.zip"
      ],
      "execution_count": 4,
      "outputs": [
        {
          "output_type": "stream",
          "text": [
            "--2021-02-18 05:32:16--  https://bin.equinox.io/c/4VmDzA7iaHb/ngrok-stable-linux-amd64.zip\n",
            "Resolving bin.equinox.io (bin.equinox.io)... 54.209.238.187, 35.153.56.97, 52.202.213.65, ...\n",
            "Connecting to bin.equinox.io (bin.equinox.io)|54.209.238.187|:443... connected.\n",
            "HTTP request sent, awaiting response... 200 OK\n",
            "Length: 13773305 (13M) [application/octet-stream]\n",
            "Saving to: ‘ngrok-stable-linux-amd64.zip’\n",
            "\n",
            "ngrok-stable-linux- 100%[===================>]  13.13M  18.6MB/s    in 0.7s    \n",
            "\n",
            "2021-02-18 05:32:17 (18.6 MB/s) - ‘ngrok-stable-linux-amd64.zip’ saved [13773305/13773305]\n",
            "\n",
            "Archive:  ngrok-stable-linux-amd64.zip\n",
            "  inflating: ngrok                   \n"
          ],
          "name": "stdout"
        }
      ]
    },
    {
      "cell_type": "code",
      "metadata": {
        "id": "dnBsfCEFfGSq"
      },
      "source": [
        "get_ipython().system_raw('./ngrok http 8501 &')"
      ],
      "execution_count": 5,
      "outputs": []
    },
    {
      "cell_type": "code",
      "metadata": {
        "colab": {
          "base_uri": "https://localhost:8080/"
        },
        "id": "PPAIt4-cfGV6",
        "outputId": "71ccbece-4dc7-42e6-b1cf-c87aa875c7f6"
      },
      "source": [
        "!curl -s http://localhost:4040/api/tunnels | python3 -c \\\r\n",
        "    'import sys, json; print(\"Execute the next cell and the go to the following URL: \" +json.load(sys.stdin)[\"tunnels\"][0][\"public_url\"])'"
      ],
      "execution_count": 6,
      "outputs": [
        {
          "output_type": "stream",
          "text": [
            "Execute the next cell and the go to the following URL: https://687719fd55f8.ngrok.io\n"
          ],
          "name": "stdout"
        }
      ]
    },
    {
      "cell_type": "code",
      "metadata": {
        "colab": {
          "base_uri": "https://localhost:8080/"
        },
        "id": "3VvCsNQMfBq6",
        "outputId": "4699a4c4-3047-4fa9-fc32-179524f79c4b"
      },
      "source": [
        "!streamlit run \"drive/MyDrive/Demo/app.py\""
      ],
      "execution_count": 7,
      "outputs": [
        {
          "output_type": "stream",
          "text": [
            "\u001b[0m\n",
            "\u001b[34m\u001b[1m  You can now view your Streamlit app in your browser.\u001b[0m\n",
            "\u001b[0m\n",
            "\u001b[34m  Network URL: \u001b[0m\u001b[1mhttp://172.28.0.2:8501\u001b[0m\n",
            "\u001b[34m  External URL: \u001b[0m\u001b[1mhttp://35.185.244.13:8501\u001b[0m\n",
            "\u001b[0m\n",
            "2021-02-18 05:33:34.884 Lock 140517033915952 acquired on /root/.cache/huggingface/transformers/5d1887643f1664d937a365f07ad9e87e44f2456be32e42f1b9a95b8f8ef5107b.fbcb9f4d4ad27824a54a7399424924db62e0f63451d2f00e281326b8005169d7.lock\n",
            "Downloading: 100% 1.39k/1.39k [00:00<00:00, 1.11MB/s]\n",
            "2021-02-18 05:33:35.238 Lock 140517033915952 released on /root/.cache/huggingface/transformers/5d1887643f1664d937a365f07ad9e87e44f2456be32e42f1b9a95b8f8ef5107b.fbcb9f4d4ad27824a54a7399424924db62e0f63451d2f00e281326b8005169d7.lock\n",
            "2021-02-18 05:33:35.446 Lock 140517033916456 acquired on /root/.cache/huggingface/transformers/e33fcda1a71396b8475e16e2fe1458cfa62c6013f8cb3787d6aa4364ec5251c6.d802a5ca7720894045dd2c9dcee6069d27aa92fbbe33f52b44d479538dc3ccc3.lock\n",
            "Downloading: 100% 2.44G/2.44G [00:35<00:00, 68.8MB/s]\n",
            "2021-02-18 05:34:11.064 Lock 140517033916456 released on /root/.cache/huggingface/transformers/e33fcda1a71396b8475e16e2fe1458cfa62c6013f8cb3787d6aa4364ec5251c6.d802a5ca7720894045dd2c9dcee6069d27aa92fbbe33f52b44d479538dc3ccc3.lock\n",
            "2021-02-18 05:34:53.920 Lock 140517043309088 acquired on /root/.cache/huggingface/transformers/ab53a11de8224594a9e052c44aac899778134a66d5bc3cb3d8f17c6253eefacf.71e50b08dbe7e5375398e165096cacc3d2086119d6a449364490da6908de655e.lock\n",
            "Downloading: 100% 5.07M/5.07M [00:00<00:00, 54.1MB/s]\n",
            "2021-02-18 05:34:54.082 Lock 140517043309088 released on /root/.cache/huggingface/transformers/ab53a11de8224594a9e052c44aac899778134a66d5bc3cb3d8f17c6253eefacf.71e50b08dbe7e5375398e165096cacc3d2086119d6a449364490da6908de655e.lock\n",
            "2021-02-18 05:34:54.495 Lock 140517043309088 acquired on /root/.cache/huggingface/transformers/4b641f4da1ffa5a28bb384165c3230c2afd9f3215ccf96aa78c1c76952f722d1.ac77c0b56ab82aca841e254aa35803773ca3f42af7b173cc9e56af3bc76083d0.lock\n",
            "Downloading: 100% 649/649 [00:00<00:00, 549kB/s]\n",
            "2021-02-18 05:34:54.701 Lock 140517043309088 released on /root/.cache/huggingface/transformers/4b641f4da1ffa5a28bb384165c3230c2afd9f3215ccf96aa78c1c76952f722d1.ac77c0b56ab82aca841e254aa35803773ca3f42af7b173cc9e56af3bc76083d0.lock\n",
            "2021-02-18 05:34:54.907 Lock 140517043309088 acquired on /root/.cache/huggingface/transformers/31c2f987466a85f8cf625f5ba85274f14abd42cd96b3cf0049d9930c7f6c712b.0fd2865cdcd6c9f10e6294ec92161d30cde315daf8c32729c154a45891c7284a.lock\n",
            "Downloading: 100% 529/529 [00:00<00:00, 500kB/s]\n",
            "2021-02-18 05:34:55.113 Lock 140517043309088 released on /root/.cache/huggingface/transformers/31c2f987466a85f8cf625f5ba85274f14abd42cd96b3cf0049d9930c7f6c712b.0fd2865cdcd6c9f10e6294ec92161d30cde315daf8c32729c154a45891c7284a.lock\n",
            "2021-02-18 05:35:55.246105: I tensorflow/stream_executor/platform/default/dso_loader.cc:49] Successfully opened dynamic library libcudart.so.10.1\n",
            "\u001b[34m  Stopping...\u001b[0m\n",
            "\u001b[34m  Stopping...\u001b[0m\n"
          ],
          "name": "stdout"
        }
      ]
    },
    {
      "cell_type": "code",
      "metadata": {
        "id": "H7NHBh_RwJiD"
      },
      "source": [
        ""
      ],
      "execution_count": null,
      "outputs": []
    }
  ]
}